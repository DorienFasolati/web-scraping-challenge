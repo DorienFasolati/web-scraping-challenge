{
 "cells": [
  {
   "cell_type": "code",
   "execution_count": 1,
   "metadata": {},
   "outputs": [],
   "source": [
    "from bs4 import BeautifulSoup\n",
    "import requests\n",
    "from splinter import Browser\n",
    "from splinter.exceptions import ElementDoesNotExist\n",
    "import time\n",
    "import pandas as pd\n",
    "\n",
    "executable_path = {'executable_path': 'chromedriver.exe'}\n",
    "browser = Browser('chrome', **executable_path, headless=False)\n"
   ]
  },
  {
   "cell_type": "code",
   "execution_count": 4,
   "metadata": {},
   "outputs": [
    {
     "name": "stdout",
     "output_type": "stream",
     "text": [
      "-------------\n",
      "\n",
      "NASA Invites Students to Name Mars 2020 Rover\n",
      "\n",
      "\n",
      "Through Nov. 1, K-12 students in the U.S. are encouraged to enter an essay contest to name NASA's next Mars rover.\n",
      "\n",
      "-------------\n",
      "\n",
      "NASA's Curiosity Mars Rover Finds a Clay Cache\n",
      "\n",
      "\n",
      "The rover recently drilled two samples, and both showed the highest levels of clay ever found during the mission.\n",
      "\n",
      "-------------\n",
      "\n",
      "Why This Martian Full Moon Looks Like Candy\n",
      "\n",
      "\n",
      "For the first time, NASA's Mars Odyssey orbiter has caught the Martian moon Phobos during a full moon phase. Each color in this new image represents a temperature range detected by Odyssey's infrared camera.\n",
      "\n",
      "-------------\n",
      "\n",
      "NASA Garners 7 Webby Award Nominations\n",
      "\n",
      "\n",
      "Nominees include four JPL projects: the solar system and climate websites, InSight social media, and a 360-degree Earth video. Public voting closes April 18, 2019.\n",
      "\n",
      "-------------\n",
      "\n",
      "NASA's Opportunity Rover Mission on Mars Comes to End\n",
      "\n",
      "\n",
      "NASA's Opportunity Mars rover mission is complete after 15 years on Mars. Opportunity's record-breaking exploration laid the groundwork for future missions to the Red Planet.\n",
      "\n",
      "-------------\n",
      "\n",
      "NASA's InSight Places First Instrument on Mars\n",
      "\n",
      "\n",
      "In deploying its first instrument onto the surface of Mars, the lander completes a major mission milestone.\n",
      "\n"
     ]
    }
   ],
   "source": [
    "mars_data = {}\n",
    "news_url = 'https://mars.nasa.gov/news/'\n",
    "response = requests.get(news_url)\n",
    "soup = BeautifulSoup(response.text, 'html.parser')\n",
    "results = soup.findAll('div', class_=\"features\")\n",
    "for result in results:\n",
    "    slides = result.findAll('div', class_=\"slide\")\n",
    "    for slide in slides:\n",
    "        news_title = slide.find('div', class_=\"content_title\")\n",
    "        news_p = slide.find('div', class_=\"rollover_description_inner\")\n",
    "        # Error handling\n",
    "        try:\n",
    "            # Identify and return title of listing        \n",
    "            title = news_title.a.text\n",
    "    #         # Identify and return price of listing\n",
    "            snippet = news_p.text\n",
    "    #         # Identify and return link to listing\n",
    "\n",
    "    #         # Print results only if title, price, and link are available\n",
    "            if (title and snippet):\n",
    "                print('-------------')\n",
    "                print(title)\n",
    "                print(snippet)\n",
    "        except AttributeError as e:\n",
    "            print(e)\n",
    "            mars_data['news_title'] = news_title.a.text\n",
    "            mars_data['news_snippet'] = news_p.text"
   ]
  },
  {
   "cell_type": "code",
   "execution_count": 5,
   "metadata": {},
   "outputs": [
    {
     "name": "stdout",
     "output_type": "stream",
     "text": [
      "https://www.jpl.nasa.gov/spaceimages/images/largesize/PIA16217_hires.jpg\n"
     ]
    }
   ],
   "source": [
    "jpl_url = 'https://www.jpl.nasa.gov/spaceimages/?search=&category=Mars'\n",
    "browser.visit(jpl_url)\n",
    "base_url = 'https://www.jpl.nasa.gov'\n",
    "\n",
    "for x in range(1):\n",
    "    html = browser.html\n",
    "    soup = BeautifulSoup(html, 'html.parser')\n",
    "    results = soup.find('footer')\n",
    "    browser.find_by_id('full_image').click()\n",
    "    browser.is_element_present_by_text('more info', wait_time=2)\n",
    "    button = 'more info'\n",
    "    browser.find_link_by_partial_text(button).click()\n",
    "    html = browser.html\n",
    "    soup1 = BeautifulSoup(html, 'html.parser')\n",
    "    figure = soup1.find('figure', class_=\"lede\")\n",
    "    hires_img_url = figure.find('a')['href']\n",
    "    featured_img_url = base_url + hires_img_url\n",
    "    print(featured_img_url)\n",
    "    # browser.visit(featured_img_url)\n",
    "    mars_data['jpl_image'] = featured_img_url"
   ]
  },
  {
   "cell_type": "code",
   "execution_count": 8,
   "metadata": {},
   "outputs": [
    {
     "name": "stdout",
     "output_type": "stream",
     "text": [
      "InSight sol 331 (2019-11-01) low -100.9ºC (-149.6ºF) high -24.6ºC (-12.3ºF)\n",
      "winds from the SSE at 5.2 m/s (11.6 mph) gusting to 18.5 m/s (41.4 mph)\n",
      "pressure at 7.00 hPapic.twitter.com/jicxvaUZh1\n"
     ]
    }
   ],
   "source": [
    "weather_url = 'https://twitter.com/marswxreport?lang=en'\n",
    "response = requests.get(weather_url)\n",
    "soup = BeautifulSoup(response.text, 'html.parser')\n",
    "results = soup.find('div', class_=\"js-tweet-text-container\")\n",
    "latest_tweet = results.p\n",
    "mars_weather = latest_tweet.text.strip()\n",
    "print(mars_weather)\n",
    "mars_data['weather'] = mars_weather"
   ]
  },
  {
   "cell_type": "code",
   "execution_count": 7,
   "metadata": {},
   "outputs": [],
   "source": [
    "facts_url = 'https://space-facts.com/mars/'\n",
    "facts = pd.read_html(facts_url)\n",
    "facts\n",
    "type(facts)\n",
    "df = facts[0]\n",
    "df.head()\n",
    "html_table = df.to_html()\n",
    "html_table.replace('\\n', '')\n",
    "mars_data['facts'] = html_table.replace('\\n', '')"
   ]
  },
  {
   "cell_type": "code",
   "execution_count": 29,
   "metadata": {},
   "outputs": [
    {
     "name": "stdout",
     "output_type": "stream",
     "text": [
      "/search/map/Mars/Viking/cerberus_enhanced\n",
      "0\n",
      "['https://astrogeology.usgs.gov/search/map/Mars/Viking/cerberus_enhanced']\n",
      "1\n",
      "['https://astrogeology.usgs.gov/search/map/Mars/Viking/cerberus_enhanced']\n"
     ]
    },
    {
     "ename": "IndexError",
     "evalue": "list index out of range",
     "output_type": "error",
     "traceback": [
      "\u001b[1;31m---------------------------------------------------------------------------\u001b[0m",
      "\u001b[1;31mIndexError\u001b[0m                                Traceback (most recent call last)",
      "\u001b[1;32m<ipython-input-29-0a2c551235d2>\u001b[0m in \u001b[0;36m<module>\u001b[1;34m\u001b[0m\n\u001b[0;32m     24\u001b[0m                 \u001b[0mprint\u001b[0m\u001b[1;33m(\u001b[0m\u001b[0mz\u001b[0m\u001b[1;33m)\u001b[0m\u001b[1;33m\u001b[0m\u001b[1;33m\u001b[0m\u001b[0m\n\u001b[0;32m     25\u001b[0m                 \u001b[0mprint\u001b[0m\u001b[1;33m(\u001b[0m\u001b[0menhanced_img\u001b[0m\u001b[1;33m)\u001b[0m\u001b[1;33m\u001b[0m\u001b[1;33m\u001b[0m\u001b[0m\n\u001b[1;32m---> 26\u001b[1;33m                 \u001b[0mbrowser\u001b[0m\u001b[1;33m.\u001b[0m\u001b[0mvisit\u001b[0m\u001b[1;33m(\u001b[0m\u001b[0menhanced_img\u001b[0m\u001b[1;33m[\u001b[0m\u001b[0mz\u001b[0m\u001b[1;33m]\u001b[0m\u001b[1;33m)\u001b[0m\u001b[1;33m\u001b[0m\u001b[1;33m\u001b[0m\u001b[0m\n\u001b[0m\u001b[0;32m     27\u001b[0m                 \u001b[0mhtml\u001b[0m \u001b[1;33m=\u001b[0m \u001b[0mbrowser\u001b[0m\u001b[1;33m.\u001b[0m\u001b[0mhtml\u001b[0m\u001b[1;33m\u001b[0m\u001b[1;33m\u001b[0m\u001b[0m\n\u001b[0;32m     28\u001b[0m                 \u001b[0msoup\u001b[0m \u001b[1;33m=\u001b[0m \u001b[0mBeautifulSoup\u001b[0m\u001b[1;33m(\u001b[0m\u001b[0mhtml\u001b[0m\u001b[1;33m,\u001b[0m \u001b[1;34m'html.parser'\u001b[0m\u001b[1;33m)\u001b[0m\u001b[1;33m\u001b[0m\u001b[1;33m\u001b[0m\u001b[0m\n",
      "\u001b[1;31mIndexError\u001b[0m: list index out of range"
     ]
    }
   ],
   "source": [
    "hemis_url = \"https://astrogeology.usgs.gov/search/results?q=hemisphere+enhanced&k1=target&v1=Mars\"\n",
    "response = requests.get(hemis_url)\n",
    "soup = BeautifulSoup(response.text, 'html.parser')\n",
    "results = soup.find_all('a', class_=\"itemLink product-item\")\n",
    "hemispheres = []\n",
    "titles = []\n",
    "desc = soup.find_all('div', class_=\"description\")\n",
    "names = desc[0].text\n",
    "names = names.rsplit(' ', 1)[0]\n",
    "for result in results:\n",
    "    print(result['href'])\n",
    "    hemispheres.append(result['href'])\n",
    "    for x in range(len(results)):\n",
    "        mars_data['hemisphere_name'] = titles.append(desc[x].text.rsplit(' ', 1)[0])\n",
    "        enhanced_img = []\n",
    "        for y in range(len(results)):\n",
    "            base_url = \"https://astrogeology.usgs.gov\"\n",
    "            enhanced_url = base_url + hemispheres[y]\n",
    "            enhanced_img.append(enhanced_url)\n",
    "            executable_path = {'executable_path': 'chromedriver.exe'}\n",
    "            browser = Browser('chrome', **executable_path, headless=False)\n",
    "            full_url = []\n",
    "            for z in range(len(results)):\n",
    "                print(z)\n",
    "                print(enhanced_img)\n",
    "                browser.visit(enhanced_img[z])\n",
    "                html = browser.html\n",
    "                soup = BeautifulSoup(html, 'html.parser')\n",
    "                result = soup.find('ul')\n",
    "                list = result.find('li')\n",
    "                full_img = list.find('a')['href']\n",
    "                full_url.append(full_img)\n",
    "                mars_data['hemisphere_url'] = full_url\n",
    "            \n",
    "print(mars_data)"
   ]
  },
  {
   "cell_type": "code",
   "execution_count": 30,
   "metadata": {},
   "outputs": [],
   "source": [
    "hemis_url = \"https://astrogeology.usgs.gov/search/results?q=hemisphere+enhanced&k1=target&v1=Mars\"\n",
    "response = requests.get(hemis_url)\n",
    "soup = BeautifulSoup(response.text, 'html.parser')\n",
    "results = soup.find_all('a', class_=\"itemLink product-item\")\n",
    "hemispheres = []\n",
    "titles = []\n",
    "desc = soup.find_all('div', class_=\"description\")\n",
    "names = desc[0].text\n",
    "names = names.rsplit(' ', 1)[0]"
   ]
  },
  {
   "cell_type": "code",
   "execution_count": 31,
   "metadata": {},
   "outputs": [
    {
     "name": "stdout",
     "output_type": "stream",
     "text": [
      "/search/map/Mars/Viking/cerberus_enhanced\n",
      "/search/map/Mars/Viking/schiaparelli_enhanced\n",
      "/search/map/Mars/Viking/syrtis_major_enhanced\n",
      "/search/map/Mars/Viking/valles_marineris_enhanced\n"
     ]
    }
   ],
   "source": [
    "for result in results:\n",
    "    print(result['href'])\n",
    "    hemispheres.append(result['href'])"
   ]
  },
  {
   "cell_type": "code",
   "execution_count": 32,
   "metadata": {},
   "outputs": [],
   "source": [
    "for x in range(len(results)):\n",
    "        mars_data['hemisphere_name'] = titles.append(desc[x].text.rsplit(' ', 1)[0])\n",
    "        enhanced_img = []"
   ]
  },
  {
   "cell_type": "code",
   "execution_count": 33,
   "metadata": {},
   "outputs": [],
   "source": [
    "for y in range(len(results)):\n",
    "            base_url = \"https://astrogeology.usgs.gov\"\n",
    "            enhanced_url = base_url + hemispheres[y]\n",
    "            enhanced_img.append(enhanced_url)\n",
    "            executable_path = {'executable_path': 'chromedriver.exe'}\n",
    "            browser = Browser('chrome', **executable_path, headless=False)\n",
    "            full_url = []"
   ]
  },
  {
   "cell_type": "code",
   "execution_count": 34,
   "metadata": {},
   "outputs": [
    {
     "name": "stdout",
     "output_type": "stream",
     "text": [
      "0\n",
      "['https://astrogeology.usgs.gov/search/map/Mars/Viking/cerberus_enhanced', 'https://astrogeology.usgs.gov/search/map/Mars/Viking/schiaparelli_enhanced', 'https://astrogeology.usgs.gov/search/map/Mars/Viking/syrtis_major_enhanced', 'https://astrogeology.usgs.gov/search/map/Mars/Viking/valles_marineris_enhanced']\n",
      "1\n",
      "['https://astrogeology.usgs.gov/search/map/Mars/Viking/cerberus_enhanced', 'https://astrogeology.usgs.gov/search/map/Mars/Viking/schiaparelli_enhanced', 'https://astrogeology.usgs.gov/search/map/Mars/Viking/syrtis_major_enhanced', 'https://astrogeology.usgs.gov/search/map/Mars/Viking/valles_marineris_enhanced']\n",
      "2\n",
      "['https://astrogeology.usgs.gov/search/map/Mars/Viking/cerberus_enhanced', 'https://astrogeology.usgs.gov/search/map/Mars/Viking/schiaparelli_enhanced', 'https://astrogeology.usgs.gov/search/map/Mars/Viking/syrtis_major_enhanced', 'https://astrogeology.usgs.gov/search/map/Mars/Viking/valles_marineris_enhanced']\n",
      "3\n",
      "['https://astrogeology.usgs.gov/search/map/Mars/Viking/cerberus_enhanced', 'https://astrogeology.usgs.gov/search/map/Mars/Viking/schiaparelli_enhanced', 'https://astrogeology.usgs.gov/search/map/Mars/Viking/syrtis_major_enhanced', 'https://astrogeology.usgs.gov/search/map/Mars/Viking/valles_marineris_enhanced']\n"
     ]
    }
   ],
   "source": [
    "for z in range(len(results)):\n",
    "                print(z)\n",
    "                print(enhanced_img)\n",
    "                browser.visit(enhanced_img[z])\n",
    "                html = browser.html\n",
    "                soup = BeautifulSoup(html, 'html.parser')\n",
    "                result = soup.find('ul')\n",
    "                list = result.find('li')\n",
    "                full_img = list.find('a')['href']\n",
    "                full_url.append(full_img)\n",
    "                mars_data['hemisphere_url'] = full_url\n",
    "            "
   ]
  },
  {
   "cell_type": "code",
   "execution_count": 35,
   "metadata": {},
   "outputs": [],
   "source": [
    "dict = {}"
   ]
  },
  {
   "cell_type": "code",
   "execution_count": 36,
   "metadata": {},
   "outputs": [
    {
     "name": "stdout",
     "output_type": "stream",
     "text": [
      "{'Cerberus Hemisphere': 'http://astropedia.astrogeology.usgs.gov/download/Mars/Viking/cerberus_enhanced.tif/full.jpg'}\n",
      "{'Cerberus Hemisphere': 'http://astropedia.astrogeology.usgs.gov/download/Mars/Viking/cerberus_enhanced.tif/full.jpg', 'Schiaparelli Hemisphere': 'http://astropedia.astrogeology.usgs.gov/download/Mars/Viking/schiaparelli_enhanced.tif/full.jpg'}\n",
      "{'Cerberus Hemisphere': 'http://astropedia.astrogeology.usgs.gov/download/Mars/Viking/cerberus_enhanced.tif/full.jpg', 'Schiaparelli Hemisphere': 'http://astropedia.astrogeology.usgs.gov/download/Mars/Viking/schiaparelli_enhanced.tif/full.jpg', 'Syrtis Major Hemisphere': 'http://astropedia.astrogeology.usgs.gov/download/Mars/Viking/syrtis_major_enhanced.tif/full.jpg'}\n",
      "{'Cerberus Hemisphere': 'http://astropedia.astrogeology.usgs.gov/download/Mars/Viking/cerberus_enhanced.tif/full.jpg', 'Schiaparelli Hemisphere': 'http://astropedia.astrogeology.usgs.gov/download/Mars/Viking/schiaparelli_enhanced.tif/full.jpg', 'Syrtis Major Hemisphere': 'http://astropedia.astrogeology.usgs.gov/download/Mars/Viking/syrtis_major_enhanced.tif/full.jpg', 'Valles Marineris Hemisphere': 'http://astropedia.astrogeology.usgs.gov/download/Mars/Viking/valles_marineris_enhanced.tif/full.jpg'}\n"
     ]
    }
   ],
   "source": [
    "for x in range(4):\n",
    "    dict[titles[x]] = full_url[x]\n",
    "    print(dict)"
   ]
  },
  {
   "cell_type": "code",
   "execution_count": null,
   "metadata": {},
   "outputs": [],
   "source": []
  }
 ],
 "metadata": {
  "kernelspec": {
   "display_name": "Python 3",
   "language": "python",
   "name": "python3"
  },
  "language_info": {
   "codemirror_mode": {
    "name": "ipython",
    "version": 3
   },
   "file_extension": ".py",
   "mimetype": "text/x-python",
   "name": "python",
   "nbconvert_exporter": "python",
   "pygments_lexer": "ipython3",
   "version": "3.7.3"
  }
 },
 "nbformat": 4,
 "nbformat_minor": 2
}
